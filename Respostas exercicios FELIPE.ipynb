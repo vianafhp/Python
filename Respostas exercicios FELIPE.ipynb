{
 "cells": [
  {
   "cell_type": "markdown",
   "id": "1996ee4b",
   "metadata": {},
   "source": [
    "## Exercicio 1 - Imprima na tela os números de 1 a 10. Use uma lista para armazenar os números."
   ]
  },
  {
   "cell_type": "code",
   "execution_count": 7,
   "id": "1c21a64a",
   "metadata": {},
   "outputs": [],
   "source": [
    "lista_1_a_10 = [1, 2, 3, 4, 5, 6, 7, 8, 9, 10]"
   ]
  },
  {
   "cell_type": "code",
   "execution_count": 8,
   "id": "9c4fd02d",
   "metadata": {},
   "outputs": [
    {
     "name": "stdout",
     "output_type": "stream",
     "text": [
      "[1, 2, 3, 4, 5, 6, 7, 8, 9, 10]\n"
     ]
    }
   ],
   "source": [
    "print(lista_1_a_10)"
   ]
  },
  {
   "cell_type": "markdown",
   "id": "833bb819",
   "metadata": {},
   "source": [
    "### Exercicio 2 - Crie uma lista de 5 objetos e imprima na tela"
   ]
  },
  {
   "cell_type": "code",
   "execution_count": 9,
   "id": "d0a759c3",
   "metadata": {},
   "outputs": [],
   "source": [
    "cidadessaopaulo = ['Barueri :1', 'Osasco :2', 'Jandira :3', 'Itapevi :4', 'São Paulo :5']"
   ]
  },
  {
   "cell_type": "code",
   "execution_count": 10,
   "id": "692c3168",
   "metadata": {},
   "outputs": [
    {
     "name": "stdout",
     "output_type": "stream",
     "text": [
      "['Barueri :1', 'Osasco :2', 'Jandira :3', 'Itapevi :4', 'São Paulo :5']\n"
     ]
    }
   ],
   "source": [
    "print(cidadessaopaulo)"
   ]
  },
  {
   "cell_type": "markdown",
   "id": "0509771d",
   "metadata": {},
   "source": [
    "### Exercício 3 - Crie duas strings e concatene as duas em uma terceira string"
   ]
  },
  {
   "cell_type": "code",
   "execution_count": 91,
   "id": "895636ad",
   "metadata": {},
   "outputs": [],
   "source": [
    "a = 'Barueri'"
   ]
  },
  {
   "cell_type": "code",
   "execution_count": 92,
   "id": "0130ba4f",
   "metadata": {},
   "outputs": [],
   "source": [
    "b = 'Carapicuiba'"
   ]
  },
  {
   "cell_type": "code",
   "execution_count": 96,
   "id": "72cd5642",
   "metadata": {},
   "outputs": [],
   "source": [
    "c = a + ' é melhor que ' + b"
   ]
  },
  {
   "cell_type": "code",
   "execution_count": 97,
   "id": "91b215ac",
   "metadata": {},
   "outputs": [
    {
     "name": "stdout",
     "output_type": "stream",
     "text": [
      "Barueri é melhor que Carapicuiba\n"
     ]
    }
   ],
   "source": [
    "print(c)"
   ]
  },
  {
   "cell_type": "markdown",
   "id": "3823115a",
   "metadata": {},
   "source": [
    "### Exercício 4 - Crie uma tupla com os seguintes elementos: 1, 2, 2, 3, 4, 4, 4, 5 e depois utilize a função count do \n",
    "### objeto tupla para verificar quantas vezes o número 4 aparece na tupla"
   ]
  },
  {
   "cell_type": "code",
   "execution_count": 40,
   "id": "030e222d",
   "metadata": {},
   "outputs": [],
   "source": [
    "tupla1 = (1, 2, 3, 4, 4, 4, 5)"
   ]
  },
  {
   "cell_type": "code",
   "execution_count": 41,
   "id": "28888a42",
   "metadata": {},
   "outputs": [
    {
     "data": {
      "text/plain": [
       "(1, 2, 3, 4, 4, 4, 5)"
      ]
     },
     "execution_count": 41,
     "metadata": {},
     "output_type": "execute_result"
    }
   ],
   "source": [
    "tupla1"
   ]
  },
  {
   "cell_type": "code",
   "execution_count": 42,
   "id": "8c31f8aa",
   "metadata": {},
   "outputs": [
    {
     "data": {
      "text/plain": [
       "3"
      ]
     },
     "execution_count": 42,
     "metadata": {},
     "output_type": "execute_result"
    }
   ],
   "source": [
    "tupla1.count(4)"
   ]
  },
  {
   "cell_type": "markdown",
   "id": "4b1bf790",
   "metadata": {},
   "source": [
    "### Exercício 5 - Crie um dicionário vazio e imprima na tela"
   ]
  },
  {
   "cell_type": "code",
   "execution_count": 43,
   "id": "bea05def",
   "metadata": {},
   "outputs": [],
   "source": [
    "dicionario1 = {}"
   ]
  },
  {
   "cell_type": "code",
   "execution_count": 44,
   "id": "1051e98d",
   "metadata": {},
   "outputs": [
    {
     "data": {
      "text/plain": [
       "{}"
      ]
     },
     "execution_count": 44,
     "metadata": {},
     "output_type": "execute_result"
    }
   ],
   "source": [
    "dicionario1"
   ]
  },
  {
   "cell_type": "markdown",
   "id": "5e154658",
   "metadata": {},
   "source": [
    "### Exercício 6 - Crie um dicionário com 3 chaves e 3 valores e imprima na tela"
   ]
  },
  {
   "cell_type": "code",
   "execution_count": 57,
   "id": "7f2331a0",
   "metadata": {},
   "outputs": [],
   "source": [
    "estudantes = {\"Amanda\":24, 'Felipe':37, 'Rose':56}"
   ]
  },
  {
   "cell_type": "code",
   "execution_count": 58,
   "id": "3ec282eb",
   "metadata": {},
   "outputs": [
    {
     "data": {
      "text/plain": [
       "{'Amanda': 24, 'Felipe': 37, 'Rose': 56}"
      ]
     },
     "execution_count": 58,
     "metadata": {},
     "output_type": "execute_result"
    }
   ],
   "source": [
    "estudantes"
   ]
  },
  {
   "cell_type": "markdown",
   "id": "41a1c314",
   "metadata": {},
   "source": [
    "### Exercício 7 - Adicione mais um elemento ao dicionário criado no exercício anterior e imprima na tela"
   ]
  },
  {
   "cell_type": "code",
   "execution_count": 64,
   "id": "32cd45e4",
   "metadata": {},
   "outputs": [],
   "source": [
    "estudantes[\"João\"] = 29"
   ]
  },
  {
   "cell_type": "code",
   "execution_count": 65,
   "id": "8871f678",
   "metadata": {},
   "outputs": [
    {
     "data": {
      "text/plain": [
       "{'Amanda': 24, 'Felipe': 37, 'Rose': 56, 'key_one': 2, 'João': 29}"
      ]
     },
     "execution_count": 65,
     "metadata": {},
     "output_type": "execute_result"
    }
   ],
   "source": [
    "estudantes"
   ]
  },
  {
   "cell_type": "markdown",
   "id": "f119a13c",
   "metadata": {},
   "source": [
    "### Exercício 8 - Crie um dicionário com 3 chaves e 3 valores. Um dos valores deve ser uma lista de 2 elementos numéricos. \n",
    "### Imprima o dicionário na tela."
   ]
  },
  {
   "cell_type": "code",
   "execution_count": 70,
   "id": "c5ce2d65",
   "metadata": {},
   "outputs": [],
   "source": [
    "estudantes2 = {'Felipe':65, 'João':[65, 25], 'Jack':41}"
   ]
  },
  {
   "cell_type": "code",
   "execution_count": 71,
   "id": "98d432af",
   "metadata": {},
   "outputs": [
    {
     "data": {
      "text/plain": [
       "{'Felipe': 65, 'João': [65, 25], 'Jack': 41}"
      ]
     },
     "execution_count": 71,
     "metadata": {},
     "output_type": "execute_result"
    }
   ],
   "source": [
    "estudantes2"
   ]
  },
  {
   "cell_type": "markdown",
   "id": "c6dda0e5",
   "metadata": {},
   "source": [
    "#### Exercício 9 - Crie uma lista de 4 elementos. O primeiro elemento deve ser uma string, \n",
    "#### o segundo uma tupla de 2 elementos, o terceiro um dcionário com 2 chaves e 2 valores e \n",
    "#### o quarto elemento um valor do tipo float.\n",
    "#### Imprima a lista na tela."
   ]
  },
  {
   "cell_type": "code",
   "execution_count": 80,
   "id": "005eedb7",
   "metadata": {},
   "outputs": [],
   "source": [
    "lista2 = [\"Carros\", ('Moto', 2015), {\"Caminhão\":2022, \"Onibus\":2019}, 8.5]"
   ]
  },
  {
   "cell_type": "code",
   "execution_count": 81,
   "id": "dea25134",
   "metadata": {},
   "outputs": [
    {
     "name": "stdout",
     "output_type": "stream",
     "text": [
      "['Carros', ('Moto', 2015), {'Caminhão': 2022, 'Onibus': 2019}, 8.5]\n"
     ]
    }
   ],
   "source": [
    "print(lista2)"
   ]
  },
  {
   "cell_type": "markdown",
   "id": "cf3fc843",
   "metadata": {},
   "source": [
    "### Exercício 10 - Considere a string abaixo. Imprima na tela apenas os caracteres da posição 1 a 18.\n",
    "frase = 'Cientista de Dados é o profissional mais sexy do século XXI'"
   ]
  },
  {
   "cell_type": "code",
   "execution_count": 88,
   "id": "77d2affd",
   "metadata": {},
   "outputs": [],
   "source": [
    "frase = 'Cientista de Dados é o profissional mais sexy do século XXI'"
   ]
  },
  {
   "cell_type": "code",
   "execution_count": 89,
   "id": "46432e7e",
   "metadata": {},
   "outputs": [
    {
     "name": "stdout",
     "output_type": "stream",
     "text": [
      "Cientista de Dados é o profissional mais sexy do século XXI\n"
     ]
    }
   ],
   "source": [
    "print(frase)"
   ]
  },
  {
   "cell_type": "code",
   "execution_count": 98,
   "id": "8d7d1ec0",
   "metadata": {},
   "outputs": [
    {
     "data": {
      "text/plain": [
       "'Cientista de Dados'"
      ]
     },
     "execution_count": 98,
     "metadata": {},
     "output_type": "execute_result"
    }
   ],
   "source": [
    "frase[0:18]"
   ]
  }
 ],
 "metadata": {
  "kernelspec": {
   "display_name": "Python 3 (ipykernel)",
   "language": "python",
   "name": "python3"
  },
  "language_info": {
   "codemirror_mode": {
    "name": "ipython",
    "version": 3
   },
   "file_extension": ".py",
   "mimetype": "text/x-python",
   "name": "python",
   "nbconvert_exporter": "python",
   "pygments_lexer": "ipython3",
   "version": "3.9.12"
  }
 },
 "nbformat": 4,
 "nbformat_minor": 5
}
